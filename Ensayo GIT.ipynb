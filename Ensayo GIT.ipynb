{
 "cells": [
  {
   "cell_type": "markdown",
   "id": "e1545e01",
   "metadata": {},
   "source": [
    "## GIT"
   ]
  },
  {
   "cell_type": "markdown",
   "id": "abd1a805",
   "metadata": {},
   "source": [
    "### INTRODUCCIÓN"
   ]
  },
  {
   "cell_type": "markdown",
   "id": "037c1831",
   "metadata": {},
   "source": [
    "La información generada por desarrollados ha sido de gran contribución en la inovación tecnológica de la ultima decada mejorando procesos en muchos sectores donde la automatización esta siendo algo necesario. pero a su vez se ha enfrentado a situaciónes tan comunes como las de una seguridad o asistencia que permita editar codigo con un respaldo de seguridad ordenado, estructurado y que permita la integración de más colaboradores, teniendo así un control de calidad eficiente para no cometer errores que pueden perjudicar con problemas de perdida de datos o secuencias lógicas de un proceso.\n",
    "\n",
    "Git se ha convertido en el estándar mundial para el control de versiones. Entonces, ¿qué es exactamente?\n",
    "\n",
    "Como lo define Mike Jacobs, Liz Casey, Ed Kaim, (2023) git es un sistema de control de versiones distribuido, lo que significa que un clon local del proyecto es un repositorio de control de versiones completo. Estos repositorios locales plenamente funcionales permiten trabajar sin conexión o de forma remota con facilidad. Los desarrolladores confirman su trabajo localmente y, a continuación, sincronizan su copia del repositorio con la copia en el servidor. Este paradigma es distinto del control de versiones centralizado, donde los clientes deben sincronizar el código con un servidor antes de crear nuevas versiones.\n",
    "\n",
    "Como lo define Mike Jacobs, Liz Casey, Ed Kaim, (2023) que los sistemas de control de versiones son software que ayudan a realizar un seguimiento de los cambios realizados en el código a lo largo del tiempo. A medida que un desarrollador edita el código, el sistema de control de versiones toma una instantánea de los archivos. Después, guarda esa instantánea de forma permanente para que se pueda recuperar más adelante si es necesario.  \n",
    "\n",
    "Sin control de versiones, los desarrolladores tienen la tentación de mantener varias copias de código en su equipo. Esto es peligroso porque es fácil cambiar o eliminar un archivo en la copia incorrecta del código, lo que podría perder trabajo. Los sistemas de control de versiones resuelven este problema administrando todas las versiones del código, pero presentando al equipo una sola versión a la vez."
   ]
  },
  {
   "cell_type": "markdown",
   "id": "bbc84a93",
   "metadata": {},
   "source": [
    "### Componentes básicos de GIT"
   ]
  },
  {
   "cell_type": "markdown",
   "id": "fb91d599",
   "metadata": {},
   "source": [
    "Cada vez que se guarda el trabajo, Git crea una confirmación. Una confirmación es una instantánea de todos los archivos en un momento dado. Si un archivo no ha cambiado de una confirmación a la siguiente, Git usa el archivo almacenado anteriormente. Este diseño difiere de otros sistemas que almacenan una versión inicial de un archivo y mantienen un registro de deltas a lo largo del tiempo. (Mike Jacobs, Liz Casey, Ed Kaim, 2023).\n",
    "\n",
    "Podemos definir que la elaboración de una estructura en GIT que permita la interacción entre varios trabajadroes en diferentes ubicaciones facilita el desarrollo de nuevos metodos de trabajo, donde se lleva una gestión adecuada de la infomación sin exisitir lagunas donde pueda extravierse lineas de codigo entre no estar consiente de que actualizaciones se han realizado en dicho proyecto.\n",
    "\n",
    "1. Ramas Cada desarrollador guarda los cambios en su propio repositorio de código local. Como resultado, puede haber muchos cambios diferentes en función de la misma confirmación. Git proporciona herramientas para aislar los cambios y volver a combinarlos posteriormente. Las ramas, que son punteros ligeros para trabajar en curso, administran esta separación. Una vez finalizado el trabajo creado en una rama, se puede combinar de nuevo en la rama principal (o troncal) del equipo.\n",
    "\n",
    "2. Archivos y confirmaciones Los archivos de Git se encuentran en uno de los tres estados: modificados, almacenados provisionalmente o confirmados. Cuando se modifica un archivo por primera vez, los cambios solo existen en el directorio de trabajo. Todavía no forman parte de una confirmación o del historial de desarrollo. El desarrollador debe almacenar provisionalmente los archivos modificados que se incluirán en la confirmación. El área de almacenamiento provisional contiene todos los cambios que se van a incluir en la siguiente confirmación. Una vez que el desarrollador esté satisfecho con los archivos almacenados provisionalmente, los archivos se empaquetan como confirmación con un mensaje que describe lo que ha cambiado. Esta confirmación forma parte del historial de desarrollo.\n",
    "\n",
    "\n"
   ]
  },
  {
   "cell_type": "markdown",
   "id": "8e06861e",
   "metadata": {},
   "source": [
    "### Ventajas de GIT\n",
    "\n",
    "#### Las ventajas de Git son muchas"
   ]
  },
  {
   "cell_type": "markdown",
   "id": "437ef00d",
   "metadata": {},
   "source": [
    "1. Desarrollo simultáneo Todos tienen su propia copia local de código y pueden trabajar simultáneamente en sus propias ramas. Git funciona sin conexión, ya que casi todas las operaciones son locales.\n",
    "\n",
    "2. Versiones más rápidas Las ramas permiten el desarrollo flexible y simultáneo. La rama principal contiene código estable y de alta calidad desde el que se publica. Las ramas de características contienen trabajo en curso, que se combinan en la rama principal tras la finalización. Al separar la rama de versión del desarrollo en curso, es más fácil administrar código estable y enviar actualizaciones más rápidamente.\n",
    "\n",
    "3. Integración integrada Debido a su popularidad, Git se integra en la mayoría de las herramientas y productos. Cada IDE principal tiene compatibilidad integrada con Git y muchas herramientas admiten la integración continua, la implementación continua, las pruebas automatizadas, el seguimiento de elementos de trabajo, las métricas y la integración de características de informes con Git. Esta integración simplifica el flujo de trabajo diario.\n",
    "\n",
    "4. Soporte técnico sólido de la comunidad Git es de código abierto y se ha convertido en el estándar de facto para el control de versiones. No hay escasez de herramientas y recursos disponibles para que los equipos aprovechen. El volumen de compatibilidad de la comunidad con Git en comparación con otros sistemas de control de versiones facilita la ayuda cuando sea necesario.\n",
    "\n",
    "5. Git funciona con cualquier equipo El uso de Git con una herramienta de administración de código fuente aumenta la productividad de un equipo fomentando la colaboración, aplicando directivas, automatizando procesos y mejorando la visibilidad y la rastreabilidad del trabajo. El equipo puede establecerse en herramientas individuales para el control de versiones, el seguimiento de elementos de trabajo y la integración e implementación continuas. O bien, pueden elegir una solución como GitHub o Azure DevOps que admita todas estas tareas en un solo lugar."
   ]
  },
  {
   "cell_type": "markdown",
   "id": "c4ecb8a8",
   "metadata": {},
   "source": [
    "#### Conclusión"
   ]
  },
  {
   "cell_type": "markdown",
   "id": "92ca973a",
   "metadata": {},
   "source": [
    "Lo mejor para los desarrolladores es trabajar con control de versiones lo cual asegura la integridad de su trabajo individual o en este caso grupal. Usar GIT puede brindar una mejor asistencia a todo tipo de problema que se presente en la construcción de un proyecto, realizando una revisión específica de los cambios que se pueden realizar, como en la revisión de lineas de codigo por actualizaciones."
   ]
  },
  {
   "cell_type": "code",
   "execution_count": null,
   "id": "c48cfd6f",
   "metadata": {},
   "outputs": [],
   "source": []
  }
 ],
 "metadata": {
  "kernelspec": {
   "display_name": "Python 3 (ipykernel)",
   "language": "python",
   "name": "python3"
  },
  "language_info": {
   "codemirror_mode": {
    "name": "ipython",
    "version": 3
   },
   "file_extension": ".py",
   "mimetype": "text/x-python",
   "name": "python",
   "nbconvert_exporter": "python",
   "pygments_lexer": "ipython3",
   "version": "3.10.9"
  }
 },
 "nbformat": 4,
 "nbformat_minor": 5
}
